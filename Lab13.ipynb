{
 "cells": [
  {
   "cell_type": "markdown",
   "metadata": {},
   "source": [
    "# Lab 12: Monte Carlo simulation of experimental uncertainties"
   ]
  },
  {
   "cell_type": "markdown",
   "metadata": {
    "toc": true
   },
   "source": [
    "<h1>Table of Contents<span class=\"tocSkip\"></span></h1>\n",
    "<div class=\"toc\"><ul class=\"toc-item\"><li><span><a href=\"#Pre-lab\" data-toc-modified-id=\"Pre-lab-1\"><span class=\"toc-item-num\">1&nbsp;&nbsp;</span>Pre-lab</a></span></li><li><span><a href=\"#Gaussian-(normal)-distribution\" data-toc-modified-id=\"Gaussian-(normal)-distribution-2\"><span class=\"toc-item-num\">2&nbsp;&nbsp;</span>Gaussian (normal) distribution</a></span><ul class=\"toc-item\"><li><span><a href=\"#Write-a-function-that-returns-a-normalized-Gaussian\" data-toc-modified-id=\"Write-a-function-that-returns-a-normalized-Gaussian-2.1\"><span class=\"toc-item-num\">2.1&nbsp;&nbsp;</span>Write a function that returns a normalized Gaussian</a></span></li><li><span><a href=\"#Test-your-Gaussian-function\" data-toc-modified-id=\"Test-your-Gaussian-function-2.2\"><span class=\"toc-item-num\">2.2&nbsp;&nbsp;</span>Test your Gaussian function</a></span></li><li><span><a href=\"#Look-at-the-functions-in-test_functions.py-whose-names-start-test_gauss\" data-toc-modified-id=\"Look-at-the-functions-in-test_functions.py-whose-names-start-test_gauss-2.3\"><span class=\"toc-item-num\">2.3&nbsp;&nbsp;</span>Look at the functions in <code>test_functions.py</code> whose names start <code>test_gauss</code></a></span></li><li><span><a href=\"#Running-the-tests-in-test_functions.py\" data-toc-modified-id=\"Running-the-tests-in-test_functions.py-2.4\"><span class=\"toc-item-num\">2.4&nbsp;&nbsp;</span>Running the tests in <code>test_functions.py</code></a></span></li><li><span><a href=\"#Plot-the-Gaussian-you-defined\" data-toc-modified-id=\"Plot-the-Gaussian-you-defined-2.5\"><span class=\"toc-item-num\">2.5&nbsp;&nbsp;</span>Plot the Gaussian you defined</a></span></li><li><span><a href=\"#Write-a-function-that-fits-a-Gaussian-(normal)-to-data\" data-toc-modified-id=\"Write-a-function-that-fits-a-Gaussian-(normal)-to-data-2.6\"><span class=\"toc-item-num\">2.6&nbsp;&nbsp;</span>Write a function that fits a Gaussian (normal) to data</a></span></li></ul></li><li><span><a href=\"#Using-Gaussian-distributions-to-calculate-uncertainty\" data-toc-modified-id=\"Using-Gaussian-distributions-to-calculate-uncertainty-3\"><span class=\"toc-item-num\">3&nbsp;&nbsp;</span>Using Gaussian distributions to calculate uncertainty</a></span><ul class=\"toc-item\"><li><span><a href=\"#Generate-a-couple-of-normal-distributions\" data-toc-modified-id=\"Generate-a-couple-of-normal-distributions-3.1\"><span class=\"toc-item-num\">3.1&nbsp;&nbsp;</span>Generate a couple of normal distributions</a></span></li><li><span><a href=\"#Fit-a-gaussian-to-one-of-your-values-($x_1$-or-$x_2$)-and-check...\" data-toc-modified-id=\"Fit-a-gaussian-to-one-of-your-values-($x_1$-or-$x_2$)-and-check...-3.2\"><span class=\"toc-item-num\">3.2&nbsp;&nbsp;</span>Fit a gaussian to one of your values ($x_1$ or $x_2$) and check...</a></span></li><li><span><a href=\"#Calculate-by-hand-the-expected-uncertainty-when-you-add-the-values-above\" data-toc-modified-id=\"Calculate-by-hand-the-expected-uncertainty-when-you-add-the-values-above-3.3\"><span class=\"toc-item-num\">3.3&nbsp;&nbsp;</span>Calculate by hand the expected uncertainty when you add the values above</a></span></li><li><span><a href=\"#Calculate-the-sum-on-the-computer,-make-a-histogram-of-the-result-and-fit-a-Gaussian-to-it\" data-toc-modified-id=\"Calculate-the-sum-on-the-computer,-make-a-histogram-of-the-result-and-fit-a-Gaussian-to-it-3.4\"><span class=\"toc-item-num\">3.4&nbsp;&nbsp;</span>Calculate the sum on the computer, make a histogram of the result and fit a Gaussian to it</a></span></li><li><span><a href=\"#Compare-the-value-from-your-fit-to-the-expected-error-you-calculated-by-hand\" data-toc-modified-id=\"Compare-the-value-from-your-fit-to-the-expected-error-you-calculated-by-hand-3.5\"><span class=\"toc-item-num\">3.5&nbsp;&nbsp;</span>Compare the value from your fit to the expected error you calculated by hand</a></span></li></ul></li><li><span><a href=\"#More-error-propagation\" data-toc-modified-id=\"More-error-propagation-4\"><span class=\"toc-item-num\">4&nbsp;&nbsp;</span>More error propagation</a></span><ul class=\"toc-item\"><li><span><a href=\"#Calculate-by-hand-the-expected-uncertainty-in-the-average-velocity\" data-toc-modified-id=\"Calculate-by-hand-the-expected-uncertainty-in-the-average-velocity-4.1\"><span class=\"toc-item-num\">4.1&nbsp;&nbsp;</span>Calculate by hand the expected uncertainty in the average velocity</a></span></li><li><span><a href=\"#Generate-a-Gaussian-distribution-for-the-change-in-position-and-change-in-time\" data-toc-modified-id=\"Generate-a-Gaussian-distribution-for-the-change-in-position-and-change-in-time-4.2\"><span class=\"toc-item-num\">4.2&nbsp;&nbsp;</span>Generate a Gaussian distribution for the change in position and change in time</a></span></li><li><span><a href=\"#Calculate-the-velocity-on-the-computer,-plot-the-distribution-and-fit-a-Gaussian\" data-toc-modified-id=\"Calculate-the-velocity-on-the-computer,-plot-the-distribution-and-fit-a-Gaussian-4.3\"><span class=\"toc-item-num\">4.3&nbsp;&nbsp;</span>Calculate the velocity on the computer, plot the distribution and fit a Gaussian</a></span></li><li><span><a href=\"#Compare-the-velocity-and-uncertainty-from-the-computer-with-the-value-you-got-by-hand\" data-toc-modified-id=\"Compare-the-velocity-and-uncertainty-from-the-computer-with-the-value-you-got-by-hand-4.4\"><span class=\"toc-item-num\">4.4&nbsp;&nbsp;</span>Compare the velocity and uncertainty from the computer with the value you got by hand</a></span></li></ul></li><li><span><a href=\"#A-more-complicated-example:-Fresnel-coefficient-for-reflection-from-a-boundary\" data-toc-modified-id=\"A-more-complicated-example:-Fresnel-coefficient-for-reflection-from-a-boundary-5\"><span class=\"toc-item-num\">5&nbsp;&nbsp;</span>A more complicated example: Fresnel coefficient for reflection from a boundary</a></span><ul class=\"toc-item\"><li><span><a href=\"#Write-a-function-to-calculate-$R_s$\" data-toc-modified-id=\"Write-a-function-to-calculate-$R_s$-5.1\"><span class=\"toc-item-num\">5.1&nbsp;&nbsp;</span>Write a function to calculate $R_s$</a></span></li><li><span><a href=\"#Create-distributions-for-the-measured-values\" data-toc-modified-id=\"Create-distributions-for-the-measured-values-5.2\"><span class=\"toc-item-num\">5.2&nbsp;&nbsp;</span>Create distributions for the measured values</a></span></li><li><span><a href=\"#Calculate-$R_s$-and-its-uncertainty\" data-toc-modified-id=\"Calculate-$R_s$-and-its-uncertainty-5.3\"><span class=\"toc-item-num\">5.3&nbsp;&nbsp;</span>Calculate $R_s$ and its uncertainty</a></span></li></ul></li></ul></div>"
   ]
  },
  {
   "cell_type": "code",
   "execution_count": 28,
   "metadata": {},
   "outputs": [],
   "source": [
    "import numpy as np\n",
    "\n",
    "%matplotlib notebook\n",
    "from matplotlib import pyplot as plt\n",
    "\n",
    "from scipy.optimize import curve_fit"
   ]
  },
  {
   "cell_type": "markdown",
   "metadata": {},
   "source": [
    "## Pre-lab\n",
    "\n",
    "Look at the [lecture notes from Mon, Apr 15](https://github.com/msum-phys350-spring-2019/lecture-notes/blob/master/Hour24_Randomness-2019-04-15.ipynb) (try [this instead](https://nbviewer.jupyter.org/github/msum-phys350-spring-2019/lecture-notes/blob/master/Hour24_Randomness-2019-04-15.ipynb) if the first link doesn't work), especially the bit at the end about fitting a Gaussian (this was added to the notes **after** lecture) and then answer these questions:\n",
    "\n",
    "1. Why do the bin centers have to be calculated?\n",
    "2. Why are more bins than histogram values returned from [`plt.hist()`][1]?\n",
    "3. Why do you need to use the `density` argument to [`plt.hist()`][1] when fitting a Gaussian to a histogram?\n",
    "\n",
    "[1]: https://matplotlib.org/api/_as_gen/matplotlib.pyplot.hist.html"
   ]
  },
  {
   "cell_type": "code",
   "execution_count": null,
   "metadata": {},
   "outputs": [],
   "source": []
  },
  {
   "cell_type": "markdown",
   "metadata": {},
   "source": [
    "## Gaussian (normal) distribution \n",
    "\n",
    "### Write a function that returns a normalized Gaussian\n",
    "\n",
    "The normalized Gaussian is given by \n",
    "\n",
    "$$\n",
    "f(x) = \\frac{1}{\\sqrt{2\\pi\\sigma^2}} e^{-\\frac{(x-\\mu)^2}{2\\sigma^2}},\n",
    "$$\n",
    "\n",
    "where $\\mu$ is the position of the center of the distribution and $\\sigma$ is the standard deviation of the Gaussian. This particular version was chosen to match the normal distribution in `numpy`.\n",
    "\n",
    "Put the function in `functions.py` (see the starting code) and import it below."
   ]
  },
  {
   "cell_type": "code",
   "execution_count": 3,
   "metadata": {},
   "outputs": [],
   "source": []
  },
  {
   "cell_type": "markdown",
   "metadata": {},
   "source": [
    "### Test your Gaussian function \n",
    "\n",
    "Here are a few ways to test your function:\n",
    "\n",
    "1. The value of the Gaussian at $x=\\mu$ should be $1/\\sqrt(2 \\pi * \\sigma**2)$; pick values for $x$, $\\mu$, and $\\sigma$, use your calculator to calculate the value of the Gaussian in this special case, then compare it to what you get from your code.\n",
    "\n",
    "1. If $\\mu=0$, $x=0$, and $\\sigma=1$ the value of the Gaussian should be $1/\\sqrt{2\\pi}$. Check that it is.\n",
    "\n",
    "1. If $x=0$ and $\\mu = \\sqrt{2}~\\sigma$ then the Gaussian should have value $\\frac{1}{e\\sqrt{2\\pi\\sigma^2}}$. Pick a value for $\\sigma$ and make sure you code gives the same result as your calculator.\n",
    "\n",
    "Use Python as your calculator if you want!"
   ]
  },
  {
   "cell_type": "code",
   "execution_count": 4,
   "metadata": {},
   "outputs": [],
   "source": []
  },
  {
   "cell_type": "markdown",
   "metadata": {},
   "source": [
    "### Look at the functions in `test_functions.py` whose names start `test_gauss`\n",
    "\n",
    "Take a look at the functions in `test_functions.py` whose names start out `test_gauss`.\n",
    "\n",
    "+ Describe below what each of those functions does.\n"
   ]
  },
  {
   "cell_type": "markdown",
   "metadata": {},
   "source": [
    "### Running the tests in `test_functions.py`\n",
    "\n",
    "#### Method 1\n",
    "\n",
    "+ In the cell below, import those functions and run them.\n",
    "+ If there are any erros, something is wrong."
   ]
  },
  {
   "cell_type": "code",
   "execution_count": null,
   "metadata": {},
   "outputs": [],
   "source": []
  },
  {
   "cell_type": "markdown",
   "metadata": {},
   "source": [
    "#### Method 2\n",
    "+ Try running `!py.test` in a cell by itself (this may or may not work)"
   ]
  },
  {
   "cell_type": "code",
   "execution_count": null,
   "metadata": {},
   "outputs": [],
   "source": []
  },
  {
   "cell_type": "markdown",
   "metadata": {},
   "source": [
    "### Plot the Gaussian you defined\n",
    "\n",
    "+ How does it change as you increase $\\sigma$?\n",
    "+ How does it change if you change $\\mu$?"
   ]
  },
  {
   "cell_type": "code",
   "execution_count": null,
   "metadata": {},
   "outputs": [],
   "source": []
  },
  {
   "cell_type": "markdown",
   "metadata": {},
   "source": [
    "### Write a function that fits a Gaussian (normal) to data\n",
    "\n",
    "The function should be called `fit_gauss`, and it should return the fit values of $\\mu$ and $\\sigma$, along with the uncertainties in those values. Return $\\mu$ and $\\sigma$ as a list; return the uncertainties in a separate list.\n",
    "\n",
    "The lecture notes linked to in the [Pre-lab](#Pre-lab) should help."
   ]
  },
  {
   "cell_type": "code",
   "execution_count": null,
   "metadata": {},
   "outputs": [],
   "source": []
  },
  {
   "cell_type": "markdown",
   "metadata": {},
   "source": [
    "## Using Gaussian distributions to calculate uncertainty\n",
    "\n",
    "\n",
    "### Generate a couple of normal distributions\n",
    "\n",
    "Generate distributions (using the appropariate function from `numpy.random`) for these value, representing two measured distances:\n",
    "\n",
    "+ $x_1 = 3.2 \\pm 0.01$ meter\n",
    "+ $x_2 = 1.6 \\pm 0.02$ meter\n",
    "\n",
    "Use 1000 points in each of the distributions.\n",
    "\n",
    "In a moment, we'll combine the two of these and check the error in the result."
   ]
  },
  {
   "cell_type": "code",
   "execution_count": null,
   "metadata": {},
   "outputs": [],
   "source": []
  },
  {
   "cell_type": "markdown",
   "metadata": {},
   "source": [
    "### Fit a gaussian to one of your values ($x_1$ or $x_2$) and check...\n",
    "\n",
    "...that the values from the fit are consistent with the $\\mu$ and $\\sigma$ with which you created the distribution.\n",
    "\n",
    "You will need to create a histogram of your distrubtion and fit the Gaussian to that histogram."
   ]
  },
  {
   "cell_type": "code",
   "execution_count": null,
   "metadata": {},
   "outputs": [],
   "source": []
  },
  {
   "cell_type": "markdown",
   "metadata": {},
   "source": [
    "### Calculate by hand the expected uncertainty when you add the values above\n",
    "\n",
    "In other words, what is the uncertainty in $x_1 + x_2$?"
   ]
  },
  {
   "cell_type": "code",
   "execution_count": null,
   "metadata": {},
   "outputs": [],
   "source": []
  },
  {
   "cell_type": "markdown",
   "metadata": {},
   "source": [
    "### Calculate the sum on the computer, make a histogram of the result and fit a Gaussian to it\n",
    "\n",
    "In other words:\n",
    "\n",
    "+ Calculate $x_1$ + $x_2$.\n",
    "+ The result will be a Gaussian distribution.\n",
    "+ Make a histogram of the result, and \n",
    "+ fit a Gaussian to the result.\n",
    "\n",
    "The value of $\\mu$ from the fit is the value of the result, and the standard deviation $\\sigma$ is the uncertainty in the result."
   ]
  },
  {
   "cell_type": "code",
   "execution_count": null,
   "metadata": {},
   "outputs": [],
   "source": []
  },
  {
   "cell_type": "markdown",
   "metadata": {},
   "source": [
    "### Compare the value from your fit to the expected error you calculated by hand"
   ]
  },
  {
   "cell_type": "code",
   "execution_count": null,
   "metadata": {},
   "outputs": [],
   "source": []
  },
  {
   "cell_type": "markdown",
   "metadata": {},
   "source": [
    "## More error propagation\n",
    "\n",
    "Now let's consider another case. Suppose you measure the motion of some object and find that its position changes by an amount  $\\Delta x =2.1 \\pm 0.05$ meter in $\\Delta t = 1.6 \\pm 0.1$ sec.\n",
    "\n",
    "The average velocity of the object during this time interval is $\\bar{v} = \\Delta x/\\Delta t$."
   ]
  },
  {
   "cell_type": "markdown",
   "metadata": {},
   "source": [
    "### Calculate by hand the expected uncertainty in the average velocity\n",
    "\n",
    "In other words, what is the uncertainty in $\\bar{v}$ for the change in position and time given above?"
   ]
  },
  {
   "cell_type": "markdown",
   "metadata": {},
   "source": [
    "### Generate a Gaussian distribution for the change in position and change in time\n",
    "\n",
    "For each variable, the mean of the distribution should be the measured value and uncertainty should be the standard deviation of the distribution."
   ]
  },
  {
   "cell_type": "code",
   "execution_count": null,
   "metadata": {},
   "outputs": [],
   "source": []
  },
  {
   "cell_type": "markdown",
   "metadata": {},
   "source": [
    "### Calculate the velocity on the computer, plot the distribution and fit a Gaussian\n"
   ]
  },
  {
   "cell_type": "code",
   "execution_count": null,
   "metadata": {},
   "outputs": [],
   "source": []
  },
  {
   "cell_type": "markdown",
   "metadata": {},
   "source": [
    "### Compare the velocity and uncertainty from the computer with the value you got by hand"
   ]
  },
  {
   "cell_type": "markdown",
   "metadata": {},
   "source": [
    "## A more complicated example: Fresnel coefficient for reflection from a boundary\n",
    "\n",
    "As an example of a case where this sort of \"computerized\" error propagation is much les painful than manual error propagation is the formula for calculating the fraction of light at incoming angle $\\theta_i$ reflected from a boundary between a material of index of refraction $n_1$ and a material of index $n_2$. The incoming light ray is propagating through the materail with index of refraction $n_1$. \n",
    "\n",
    "The reflection coefficient for the S polarization (one of the two ways the incident light can be polarized) [is given by][1] \n",
    "\n",
    "$$\n",
    "R_s = \\left|\\frac{n_1 \\cos\\theta_i - n_2\\cos\\theta_t}{n_1\\cos\\theta_i + n_2\\cos\\theta_t}\\right|^2,\n",
    "$$\n",
    "\n",
    "where the transmission angle $\\theta_t$ is related to the indices of refraction and incoming angle $\\theta_i$ by \n",
    "\n",
    "$$\n",
    "n_1\\sin\\theta_i = n_2\\sin\\theta_t.\n",
    "$$\n",
    "\n",
    "[1]: https://en.wikipedia.org/wiki/Fresnel_equations#Power_(intensity)_reflection_and_transmission_coefficients"
   ]
  },
  {
   "cell_type": "markdown",
   "metadata": {},
   "source": [
    "Imagine that you have measured $\\theta_i$, $n_1$ and $n_2$, with uncertainty $\\sigma_{\\theta_i}$, $\\sigma_{n_1}$, $\\sigma_{n_2}$, respectively, and need to calculate the uncertainty in $R_s$. \n",
    "\n",
    "One could in principle do this by hand; [according to Wikipedia][2] we can get the uncertainty $\\sigma_{R_s}$ in $R_s$ from \n",
    "\n",
    "$$\n",
    "\\sigma_{R_s}^2 = \\left(\\frac{\\partial R_s}{\\partial n_1}\\right)^2\\sigma_{n_1}^2 \n",
    "           + \\left(\\frac{\\partial R_s}{\\partial n_2}\\right)^2\\sigma_{n_2}^2 \n",
    "           + \\left(\\frac{\\partial R_s}{\\partial \\theta_i}\\right)^2\\sigma_{\\theta_i}^2 ,\n",
    "$$\n",
    "\n",
    "so \"simply\" find each of the derivatives in this formula, and put them in and you are done. This clearly could be done, but we ought to be abel to get the same result by generating a distribution of values for $\\theta_i$, $n_1$ and $n_2$ and calculating $R_s$ from them. The width of the distribution of values in the result is the uncertainty in the result.\n",
    "\n",
    "[2]: https://en.wikipedia.org/wiki/Propagation_of_uncertainty#Simplification"
   ]
  },
  {
   "cell_type": "markdown",
   "metadata": {},
   "source": [
    "### Write a function to calculate $R_s$ \n",
    "\n",
    "#### Write the function \n",
    "\n",
    "The function should take three arguments, `n1`, `n2`, and `theta_i`. See the starting code for more.\n",
    "\n",
    "#### Since this is a messy formula, start by writing some \"tests\"\n",
    "\n",
    "+ Put the tests in the file `test_functions.py`.\n",
    "+ A few suggestions for test cases (write one test for each test case):\n",
    "    + If $\\theta_i$ = 0 then the formula for $R_s$ simplifies quite a bit to $R_s = \\left|(n_1 - n_2)/(n_1+ n_2)\\right|^2$. Pick a value for $n_1$ and $n_2$, calculate $R-s$ with a calculator, and make sure your function gives you the same result. *Note: $n_1$ and $n_2$ are always real numbers larger than 1.*\n",
    "    + If $n_1 = n_2$ then $R_s = 0$ for any angle between 0 and 90$^\\circ$.\n",
    "    + If If $n_1 = 1.5$ (glass) and $n_2 = 1$ (air), then $R_s = 1$ if $\\sin\\theta_i = n_2/n_1$ (this angle is called the *critical angle* for total internal reflection).\n",
    "\n",
    "#### Wow, how did you find all of those test cases?\n",
    "\n",
    "Look [here][3].\n",
    "\n",
    "#### Import and run the tests...\n",
    "\n",
    "...or run `!py.test` in a anaconda terminal/command prompt.\n",
    "\n",
    "[3]: https://en.wikipedia.org/wiki/Fresnel_equations#Special_cases"
   ]
  },
  {
   "cell_type": "code",
   "execution_count": null,
   "metadata": {},
   "outputs": [],
   "source": []
  },
  {
   "cell_type": "markdown",
   "metadata": {},
   "source": [
    "### Create distributions for the measured values\n",
    "\n",
    "For the sake of argument, suppose that you have these values:\n",
    "\n",
    "+ $n_1 = 1.32 \\pm 0.01$\n",
    "+ $n_2 = 1.44 \\pm 0.02$\n",
    "+ $\\theta_i = 0.628 \\pm 0.001$\n",
    "\n",
    "Create a Gaussian distribution for each of these variables, each with 1,000 points."
   ]
  },
  {
   "cell_type": "code",
   "execution_count": null,
   "metadata": {},
   "outputs": [],
   "source": []
  },
  {
   "cell_type": "markdown",
   "metadata": {},
   "source": [
    "### Calculate $R_s$ and its uncertainty\n",
    "\n",
    "Use the function you wrote to calculate $R_s$, histogram the result, and fit it to get the resulting value and its uncertainty."
   ]
  },
  {
   "cell_type": "code",
   "execution_count": null,
   "metadata": {},
   "outputs": [],
   "source": []
  }
 ],
 "metadata": {
  "kernelspec": {
   "display_name": "Python 3",
   "language": "python",
   "name": "python3"
  },
  "language_info": {
   "codemirror_mode": {
    "name": "ipython",
    "version": 3
   },
   "file_extension": ".py",
   "mimetype": "text/x-python",
   "name": "python",
   "nbconvert_exporter": "python",
   "pygments_lexer": "ipython3",
   "version": "3.6.7"
  },
  "toc": {
   "base_numbering": 1,
   "nav_menu": {},
   "number_sections": true,
   "sideBar": true,
   "skip_h1_title": true,
   "title_cell": "Table of Contents",
   "title_sidebar": "Contents",
   "toc_cell": true,
   "toc_position": {
    "height": "576px",
    "left": "1094px",
    "top": "110px",
    "width": "286.188px"
   },
   "toc_section_display": true,
   "toc_window_display": false
  }
 },
 "nbformat": 4,
 "nbformat_minor": 2
}
